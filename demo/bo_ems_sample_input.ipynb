{
 "cells": [
  {
   "cell_type": "code",
   "execution_count": 1,
   "metadata": {},
   "outputs": [
    {
     "name": "stderr",
     "output_type": "stream",
     "text": [
      "/home/zengs/data/anaconda3/envs/venv_pl/lib/python3.8/site-packages/tqdm/auto.py:21: TqdmWarning: IProgress not found. Please update jupyter and ipywidgets. See https://ipywidgets.readthedocs.io/en/stable/user_install.html\n",
      "  from .autonotebook import tqdm as notebook_tqdm\n"
     ]
    }
   ],
   "source": [
    "import os\n",
    "import torch\n",
    "\n",
    "import os\n",
    "import sys\n",
    "\n",
    "import numpy as np\n",
    "import pandas as pd\n",
    "\n",
    "import torch\n",
    "import torch.nn as nn\n",
    "\n",
    "\n",
    "sys.path.append('..')\n",
    "sys.path.append('.')\n",
    "sys.path.append('../llm_garden')\n",
    "\n",
    "from peft_modules import peft_utils\n",
    "import esm_adapter\n",
    "\n",
    "\n",
    "\n",
    "DEVICE = torch.device(\"cuda\" if torch.cuda.is_available() else \"cpu\")\n",
    "\n",
    "# torch.hub.set_dir(\"./torch_hub\")\n",
    "torch.hub.set_dir(\"/home/zengs/zengs_data/torch_hub\")\n",
    "\n",
    "\n",
    "device = torch.device(\"cuda\" if torch.cuda.is_available() else \"cpu\")\n",
    "\n",
    "dtype = torch.double\n",
    "\n",
    "\n",
    "\n",
    "SMOKE_TEST = os.environ.get(\"SMOKE_TEST\")\n",
    "N_TRIALS = 3 if not SMOKE_TEST else 2\n",
    "N_BATCH = 20 if not SMOKE_TEST else 2\n",
    "MC_SAMPLES = 256 if not SMOKE_TEST else 32"
   ]
  },
  {
   "cell_type": "code",
   "execution_count": 2,
   "metadata": {},
   "outputs": [
    {
     "data": {
      "text/plain": [
       "(tensor([[ 0,  5, 15, 11,  7, 10, 16,  9, 10,  4, 15,  2],\n",
       "         [ 0, 25,  5,  4, 11,  5, 10, 16, 16,  9,  7,  2],\n",
       "         [ 0, 13, 15,  9,  7, 18, 13,  4, 12, 10, 13,  2],\n",
       "         [ 0,  9, 10, 13, 21, 12,  8, 16, 11,  6, 20,  2]]),\n",
       " torch.Size([4, 12]))"
      ]
     },
     "execution_count": 2,
     "metadata": {},
     "output_type": "execute_result"
    }
   ],
   "source": [
    "INPUT_SEQ_SIZE = 10\n",
    "\n",
    "\n",
    "# data\n",
    "data = peft_utils.get_esm_example_data(INPUT_SEQ_SIZE)\n",
    "\n",
    "\n",
    "# Load ESM-2 model\n",
    "# esm2_t33_650M_UR50D\n",
    "# esm2_t6_8M_UR50D\n",
    "model, alphabet = esm_adapter.pretrained.esm2_t6_8M_UR50D()\n",
    "batch_converter = alphabet.get_batch_converter()\n",
    "model.eval()\n",
    "\n",
    "batch_labels, batch_strs, batch_tokens = batch_converter(data)\n",
    "\n",
    "batch_tokens, batch_tokens.shape"
   ]
  },
  {
   "cell_type": "code",
   "execution_count": 3,
   "metadata": {},
   "outputs": [
    {
     "data": {
      "text/plain": [
       "(tensor([[[-1.9543e-01, -2.7515e-01, -1.4941e-01,  ...,  1.2744e-01,\n",
       "           -1.0431e-01, -6.4697e-02],\n",
       "          [-6.6711e-02, -1.1932e-02,  8.6288e-03,  ...,  1.4633e-02,\n",
       "           -4.3945e-02, -1.9348e-01],\n",
       "          [-9.7595e-02,  1.5762e-02,  3.3600e-02,  ...,  3.4027e-03,\n",
       "            2.2369e-02,  2.8732e-02],\n",
       "          ...,\n",
       "          [-8.5693e-02, -2.2476e-02,  4.2603e-02,  ...,  8.2764e-02,\n",
       "            8.9539e-02,  8.9417e-02],\n",
       "          [-9.7595e-02,  1.5762e-02,  3.3600e-02,  ...,  3.4027e-03,\n",
       "            2.2369e-02,  2.8732e-02],\n",
       "          [ 7.3120e-02, -3.0811e-01, -1.1700e-01,  ..., -2.2058e-01,\n",
       "           -3.4326e-01, -1.5488e-03]],\n",
       " \n",
       "         [[-1.9543e-01, -2.7515e-01, -1.4941e-01,  ...,  1.2744e-01,\n",
       "           -1.0431e-01, -6.4697e-02],\n",
       "          [ 2.0813e-02, -8.6548e-02, -7.0374e-02,  ..., -2.9898e-04,\n",
       "           -8.3923e-02, -1.3000e-01],\n",
       "          [-6.6711e-02, -1.1932e-02,  8.6288e-03,  ...,  1.4633e-02,\n",
       "           -4.3945e-02, -1.9348e-01],\n",
       "          ...,\n",
       "          [-8.1055e-02, -3.8483e-02,  1.6222e-03,  ...,  4.4708e-02,\n",
       "            6.1722e-03, -8.3327e-05],\n",
       "          [-7.1716e-02, -1.5152e-02,  9.3079e-03,  ...,  7.3792e-02,\n",
       "            5.2002e-02,  1.0368e-02],\n",
       "          [ 7.3120e-02, -3.0811e-01, -1.1700e-01,  ..., -2.2058e-01,\n",
       "           -3.4326e-01, -1.5488e-03]],\n",
       " \n",
       "         [[-1.9543e-01, -2.7515e-01, -1.4941e-01,  ...,  1.2744e-01,\n",
       "           -1.0431e-01, -6.4697e-02],\n",
       "          [-9.0515e-02, -2.1042e-02,  7.9422e-03,  ...,  6.4575e-02,\n",
       "            2.1851e-01, -3.4302e-02],\n",
       "          [-9.7595e-02,  1.5762e-02,  3.3600e-02,  ...,  3.4027e-03,\n",
       "            2.2369e-02,  2.8732e-02],\n",
       "          ...,\n",
       "          [-9.8877e-02, -3.5400e-02, -4.0344e-02,  ...,  2.3346e-02,\n",
       "            2.4582e-02,  1.1053e-01],\n",
       "          [-9.0515e-02, -2.1042e-02,  7.9422e-03,  ...,  6.4575e-02,\n",
       "            2.1851e-01, -3.4302e-02],\n",
       "          [ 7.3120e-02, -3.0811e-01, -1.1700e-01,  ..., -2.2058e-01,\n",
       "           -3.4326e-01, -1.5488e-03]],\n",
       " \n",
       "         [[-1.9543e-01, -2.7515e-01, -1.4941e-01,  ...,  1.2744e-01,\n",
       "           -1.0431e-01, -6.4697e-02],\n",
       "          [-8.1055e-02, -3.8483e-02,  1.6222e-03,  ...,  4.4708e-02,\n",
       "            6.1722e-03, -8.3327e-05],\n",
       "          [-9.8877e-02, -3.5400e-02, -4.0344e-02,  ...,  2.3346e-02,\n",
       "            2.4582e-02,  1.1053e-01],\n",
       "          ...,\n",
       "          [-1.0071e-01, -7.9498e-03, -3.6035e-01,  ..., -6.2073e-02,\n",
       "            6.1615e-02,  4.3335e-02],\n",
       "          [-1.2018e-01, -6.2561e-02, -3.1189e-02,  ..., -2.5317e-01,\n",
       "            4.7913e-02, -8.8928e-02],\n",
       "          [ 7.3120e-02, -3.0811e-01, -1.1700e-01,  ..., -2.2058e-01,\n",
       "           -3.4326e-01, -1.5488e-03]]], grad_fn=<EmbeddingBackward0>),\n",
       " torch.Size([4, 12, 320]))"
      ]
     },
     "execution_count": 3,
     "metadata": {},
     "output_type": "execute_result"
    }
   ],
   "source": [
    "token_embedding = model.embed_tokens(batch_tokens)\n",
    "\n",
    "# token_embedding (torch.Tensor of shape (4, 12, 320) ((N_SEQ, N_TOKEN, N_FEAT)))\n",
    "# The sequence of token embeddings for each input sequence in the batch.\n",
    "# It is a sample data.\n",
    "token_embedding, token_embedding.shape"
   ]
  }
 ],
 "metadata": {
  "kernelspec": {
   "display_name": "venv_pl",
   "language": "python",
   "name": "python3"
  },
  "language_info": {
   "codemirror_mode": {
    "name": "ipython",
    "version": 3
   },
   "file_extension": ".py",
   "mimetype": "text/x-python",
   "name": "python",
   "nbconvert_exporter": "python",
   "pygments_lexer": "ipython3",
   "version": "3.8.16"
  }
 },
 "nbformat": 4,
 "nbformat_minor": 2
}
