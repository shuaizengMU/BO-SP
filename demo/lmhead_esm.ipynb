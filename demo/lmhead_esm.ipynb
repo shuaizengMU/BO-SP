{
 "cells": [
  {
   "cell_type": "code",
   "execution_count": 1,
   "metadata": {},
   "outputs": [],
   "source": [
    "import os\n",
    "import torch\n",
    "\n",
    "import os\n",
    "import sys\n",
    "\n",
    "import numpy as np\n",
    "import pandas as pd\n",
    "\n",
    "import torch\n",
    "import torch.nn as nn\n",
    "\n",
    "\n",
    "sys.path.append('..')\n",
    "sys.path.append('.')\n",
    "sys.path.append('../llm_garden')\n",
    "\n",
    "from peft_modules import peft_utils\n",
    "import esm_adapter\n",
    "\n"
   ]
  },
  {
   "cell_type": "code",
   "execution_count": 2,
   "metadata": {},
   "outputs": [],
   "source": [
    "torch.hub.set_dir(\"/home/zengs/zengs_data/torch_hub\")"
   ]
  },
  {
   "cell_type": "code",
   "execution_count": 3,
   "metadata": {},
   "outputs": [],
   "source": [
    "\n",
    "INPUT_SEQ_SIZE = 50\n",
    "data = peft_utils.get_esm_example_data(INPUT_SEQ_SIZE)\n",
    "\n",
    "model, alphabet = esm_adapter.pretrained.esm2_t6_8M_UR50D()\n",
    "batch_converter = alphabet.get_batch_converter()\n",
    "model.eval()\n",
    "\n",
    "batch_labels, batch_strs, batch_tokens = batch_converter(data)\n",
    "\n",
    "true_seqs = [ item[1] for item in data ]"
   ]
  },
  {
   "cell_type": "code",
   "execution_count": 4,
   "metadata": {},
   "outputs": [],
   "source": [
    "logits = model(batch_tokens)[\"logits\"]\n",
    "tokens = torch.argmax(logits, dim=2)\n",
    "\n",
    "pred_seqs = []\n",
    "for one_sample in tokens:\n",
    "  one_sample = one_sample[1:-1]\n",
    "  one_seq = \"\".join([model.alphabet.get_tok(one_token) for one_token in one_sample])\n",
    "  pred_seqs.append(one_seq)\n"
   ]
  },
  {
   "cell_type": "code",
   "execution_count": 5,
   "metadata": {},
   "outputs": [
    {
     "name": "stdout",
     "output_type": "stream",
     "text": [
      "['AKTVRQERLKSIVRILERSKEPVSGAQLAEELSVSRQVIVQDIAYLRSLG', 'BALTARQQEVFDLIRDHISQTGMPPTRAEIAQRLGFRSPNAAEEHLKALA', 'DKEVFDLIRDEEIRHLKALARKQISQTGMPPTRAEIAQRLGFRSPNAAEH', 'ERDHISQTGMPPTRAEIAQRLDHISQTGMPPTRRDEEIRHLLKEVFDLIR']\n",
      "['MKTVRQERLKSIVRILERSKEPVSGAQLAEELSVSRQVIVQDIAYLRSLG', 'MALTARQQEVFDLIRDHISQTGMPPTRAEIAQRLGFRSPNAAEEHLKALA', 'MKEVFDLIRDEEIRHLKALARKQISQTGMPPTRAEIAQRLGFRSPNAAEH', 'MRDHISQTGMPRTRAEIAQRLDHISQTGMPPTRTDEEIRHLLKEVFDLIR']\n",
      "[0.98, 0.98, 0.98, 0.94]\n"
     ]
    }
   ],
   "source": [
    "\n",
    "def calc_acc(pred_seq, true_seq):\n",
    "  acc = 0\n",
    "  for pred_residue, true_residue in zip(pred_seq, true_seq):\n",
    "    if pred_residue == true_residue:\n",
    "      acc += 1\n",
    "  return acc / len(pred_seq)\n",
    "\n",
    "acc = [calc_acc(pred_seq, true_seq) for pred_seq, true_seq in zip(pred_seqs, true_seqs) ]\n",
    "\n",
    "\n",
    "print(true_seqs)\n",
    "print(pred_seqs)\n",
    "print(acc)\n",
    "\n"
   ]
  }
 ],
 "metadata": {
  "kernelspec": {
   "display_name": "venv_pl",
   "language": "python",
   "name": "python3"
  },
  "language_info": {
   "codemirror_mode": {
    "name": "ipython",
    "version": 3
   },
   "file_extension": ".py",
   "mimetype": "text/x-python",
   "name": "python",
   "nbconvert_exporter": "python",
   "pygments_lexer": "ipython3",
   "version": "3.8.16"
  }
 },
 "nbformat": 4,
 "nbformat_minor": 2
}
