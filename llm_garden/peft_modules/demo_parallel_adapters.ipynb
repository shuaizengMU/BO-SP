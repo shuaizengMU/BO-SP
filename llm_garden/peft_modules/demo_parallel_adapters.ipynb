{
 "cells": [
  {
   "cell_type": "code",
   "execution_count": 1,
   "metadata": {},
   "outputs": [
    {
     "name": "stderr",
     "output_type": "stream",
     "text": [
      "/home/zengs/data/anaconda3/envs/venv_pl/lib/python3.8/site-packages/tqdm/auto.py:21: TqdmWarning: IProgress not found. Please update jupyter and ipywidgets. See https://ipywidgets.readthedocs.io/en/stable/user_install.html\n",
      "  from .autonotebook import tqdm as notebook_tqdm\n"
     ]
    }
   ],
   "source": [
    "import os\n",
    "import sys\n",
    "\n",
    "import numpy as np\n",
    "import pandas as pd\n",
    "\n",
    "import torch\n",
    "import torch.nn as nn\n",
    "\n",
    "\n",
    "sys.path.append('..')\n",
    "sys.path.append('.')\n",
    "\n",
    "from peft_modules import peft_utils\n",
    "import esm_adapter\n",
    "\n",
    "from prompt_tunning import PrefixTuning\n",
    "\n",
    "\n",
    "DEVICE = torch.device(\"cuda\" if torch.cuda.is_available() else \"cpu\")\n",
    "# torch.hub.set_dir(\"./torch_hub\")\n",
    "torch.hub.set_dir(\"/home/zengs/zengs_data/torch_hub\")"
   ]
  },
  {
   "cell_type": "code",
   "execution_count": 2,
   "metadata": {},
   "outputs": [],
   "source": [
    "INPUT_SEQ_SIZE = 10\n",
    "\n",
    "# data\n",
    "data = peft_utils.get_esm_example_data(INPUT_SEQ_SIZE)\n",
    "\n",
    "\n",
    "# Load ESM-2 model\n",
    "# esm2_t33_650M_UR50D\n",
    "# esm2_t6_8M_UR50D\n",
    "model, alphabet = esm_adapter.pretrained.esm2_t6_8M_UR50D(num_end_adapter_layers=[1,2])\n",
    "batch_converter = alphabet.get_batch_converter()\n",
    "model.eval()\n",
    "\n",
    "batch_labels, batch_strs, batch_tokens = batch_converter(data)"
   ]
  },
  {
   "cell_type": "code",
   "execution_count": 3,
   "metadata": {},
   "outputs": [
    {
     "name": "stdout",
     "output_type": "stream",
     "text": [
      "Representations 0: torch.Size([4, 12, 320])\n",
      "Representations 1: torch.Size([4, 12, 320])\n",
      "Representations 2: torch.Size([4, 22, 320])\n",
      "Representations 3: torch.Size([4, 22, 320])\n",
      "Representations 4: torch.Size([4, 22, 320])\n",
      "Representations 5: torch.Size([4, 22, 320])\n",
      "Representations 6: torch.Size([4, 12, 320])\n"
     ]
    }
   ],
   "source": [
    "\n",
    "prompt_model = PrefixTuning(model, prompt_len=10,\n",
    "                            input_seq_len=INPUT_SEQ_SIZE,\n",
    "                            prompt_layer_index=1,\n",
    "                            device=DEVICE)\n",
    "\n",
    "model.prefix_module = prompt_model\n",
    "\n",
    "with torch.no_grad():\n",
    "    results = model(batch_tokens, repr_layers=range(0, len(model.layers)+1))\n",
    "\n",
    "with torch.no_grad():\n",
    "    results = model(batch_tokens, repr_layers=range(0, len(model.layers)+1))\n",
    "\n",
    "for i in range(0, len(model.layers)+1):\n",
    "    print(f\"Representations {i}: {results['representations'][i].shape}\")\n"
   ]
  },
  {
   "cell_type": "code",
   "execution_count": 4,
   "metadata": {},
   "outputs": [
    {
     "data": {
      "text/plain": [
       "ESM2(\n",
       "  (embed_tokens): Embedding(33, 320, padding_idx=1)\n",
       "  (layers): ModuleList(\n",
       "    (0-3): 4 x TransformerAdapterLayer(\n",
       "      (self_attn): MultiheadAttention(\n",
       "        (k_proj): Linear(in_features=320, out_features=320, bias=True)\n",
       "        (v_proj): Linear(in_features=320, out_features=320, bias=True)\n",
       "        (q_proj): Linear(in_features=320, out_features=320, bias=True)\n",
       "        (out_proj): Linear(in_features=320, out_features=320, bias=True)\n",
       "        (rot_emb): RotaryEmbedding()\n",
       "      )\n",
       "      (self_attn_layer_norm): LayerNorm((320,), eps=1e-05, elementwise_affine=True)\n",
       "      (fc1): Linear(in_features=320, out_features=1280, bias=True)\n",
       "      (fc2): Linear(in_features=1280, out_features=320, bias=True)\n",
       "      (final_layer_norm): LayerNorm((320,), eps=1e-05, elementwise_affine=True)\n",
       "    )\n",
       "    (4): TransformerAdapterLayer(\n",
       "      (self_attn): MultiheadAttention(\n",
       "        (k_proj): Linear(in_features=320, out_features=320, bias=True)\n",
       "        (v_proj): Linear(in_features=320, out_features=320, bias=True)\n",
       "        (q_proj): Linear(in_features=320, out_features=320, bias=True)\n",
       "        (out_proj): Linear(in_features=320, out_features=320, bias=True)\n",
       "        (rot_emb): RotaryEmbedding()\n",
       "      )\n",
       "      (self_attn_layer_norm): LayerNorm((320,), eps=1e-05, elementwise_affine=True)\n",
       "      (fc1): Linear(in_features=320, out_features=1280, bias=True)\n",
       "      (fc2): Linear(in_features=1280, out_features=320, bias=True)\n",
       "      (final_layer_norm): LayerNorm((320,), eps=1e-05, elementwise_affine=True)\n",
       "      (adapter_layer_dict): ModuleDict(\n",
       "        (adapter_1): ModuleList(\n",
       "          (0-1): 2 x ResMLP(\n",
       "            (module): Sequential(\n",
       "              (0): Linear(in_features=320, out_features=160, bias=True)\n",
       "              (1): ReLU()\n",
       "              (2): Linear(in_features=160, out_features=320, bias=True)\n",
       "              (3): LayerNorm((320,), eps=1e-05, elementwise_affine=True)\n",
       "            )\n",
       "          )\n",
       "        )\n",
       "      )\n",
       "    )\n",
       "    (5): TransformerAdapterLayer(\n",
       "      (self_attn): MultiheadAttention(\n",
       "        (k_proj): Linear(in_features=320, out_features=320, bias=True)\n",
       "        (v_proj): Linear(in_features=320, out_features=320, bias=True)\n",
       "        (q_proj): Linear(in_features=320, out_features=320, bias=True)\n",
       "        (out_proj): Linear(in_features=320, out_features=320, bias=True)\n",
       "        (rot_emb): RotaryEmbedding()\n",
       "      )\n",
       "      (self_attn_layer_norm): LayerNorm((320,), eps=1e-05, elementwise_affine=True)\n",
       "      (fc1): Linear(in_features=320, out_features=1280, bias=True)\n",
       "      (fc2): Linear(in_features=1280, out_features=320, bias=True)\n",
       "      (final_layer_norm): LayerNorm((320,), eps=1e-05, elementwise_affine=True)\n",
       "      (adapter_layer_dict): ModuleDict(\n",
       "        (adapter_0): ModuleList(\n",
       "          (0-1): 2 x ResMLP(\n",
       "            (module): Sequential(\n",
       "              (0): Linear(in_features=320, out_features=160, bias=True)\n",
       "              (1): ReLU()\n",
       "              (2): Linear(in_features=160, out_features=320, bias=True)\n",
       "              (3): LayerNorm((320,), eps=1e-05, elementwise_affine=True)\n",
       "            )\n",
       "          )\n",
       "        )\n",
       "        (adapter_1): ModuleList(\n",
       "          (0-1): 2 x ResMLP(\n",
       "            (module): Sequential(\n",
       "              (0): Linear(in_features=320, out_features=160, bias=True)\n",
       "              (1): ReLU()\n",
       "              (2): Linear(in_features=160, out_features=320, bias=True)\n",
       "              (3): LayerNorm((320,), eps=1e-05, elementwise_affine=True)\n",
       "            )\n",
       "          )\n",
       "        )\n",
       "      )\n",
       "    )\n",
       "  )\n",
       "  (contact_head): ContactPredictionHead(\n",
       "    (regression): Linear(in_features=120, out_features=1, bias=True)\n",
       "    (activation): Sigmoid()\n",
       "  )\n",
       "  (emb_layer_norm_after): LayerNorm((320,), eps=1e-05, elementwise_affine=True)\n",
       "  (lm_head): RobertaLMHead(\n",
       "    (dense): Linear(in_features=320, out_features=320, bias=True)\n",
       "    (layer_norm): LayerNorm((320,), eps=1e-05, elementwise_affine=True)\n",
       "  )\n",
       "  (prefix_module): PrefixTuning(\n",
       "    (prompt_layer_dict): ParameterDict(  (1): Parameter containing: [torch.FloatTensor of size 10x320])\n",
       "  )\n",
       ")"
      ]
     },
     "execution_count": 4,
     "metadata": {},
     "output_type": "execute_result"
    }
   ],
   "source": [
    "model"
   ]
  }
 ],
 "metadata": {
  "kernelspec": {
   "display_name": "venv_pl",
   "language": "python",
   "name": "python3"
  },
  "language_info": {
   "codemirror_mode": {
    "name": "ipython",
    "version": 3
   },
   "file_extension": ".py",
   "mimetype": "text/x-python",
   "name": "python",
   "nbconvert_exporter": "python",
   "pygments_lexer": "ipython3",
   "version": "3.8.16"
  }
 },
 "nbformat": 4,
 "nbformat_minor": 2
}
