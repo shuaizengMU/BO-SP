{
 "cells": [
  {
   "cell_type": "code",
   "execution_count": 1,
   "metadata": {},
   "outputs": [
    {
     "name": "stderr",
     "output_type": "stream",
     "text": [
      "/home/zengs/data/anaconda3/envs/venv_pl/lib/python3.8/site-packages/tqdm/auto.py:21: TqdmWarning: IProgress not found. Please update jupyter and ipywidgets. See https://ipywidgets.readthedocs.io/en/stable/user_install.html\n",
      "  from .autonotebook import tqdm as notebook_tqdm\n"
     ]
    }
   ],
   "source": [
    "import os\n",
    "import sys\n",
    "\n",
    "import numpy as np\n",
    "import pandas as pd\n",
    "\n",
    "import torch\n",
    "import torch.nn as nn\n",
    "\n",
    "\n",
    "sys.path.append('..')\n",
    "sys.path.append('.')\n",
    "\n",
    "from peft_modules import peft_utils\n",
    "import esm_adapter\n",
    "\n",
    "from prompt_tunning import PrefixTuning\n",
    "\n",
    "\n",
    "DEVICE = torch.device(\"cuda\" if torch.cuda.is_available() else \"cpu\")\n",
    "# torch.hub.set_dir(\"./torch_hub\")\n",
    "torch.hub.set_dir(\"/home/zengs/zengs_data/torch_hub\")"
   ]
  },
  {
   "cell_type": "code",
   "execution_count": 2,
   "metadata": {},
   "outputs": [],
   "source": [
    "INPUT_SEQ_SIZE = 10\n",
    "\n",
    "# data\n",
    "data = peft_utils.get_esm_example_data(INPUT_SEQ_SIZE)\n",
    "\n",
    "\n",
    "# Load ESM-2 model\n",
    "# esm2_t33_650M_UR50D\n",
    "# esm2_t6_8M_UR50D\n",
    "model, alphabet = esm_adapter.pretrained.esm2_t6_8M_UR50D()\n",
    "batch_converter = alphabet.get_batch_converter()\n",
    "model.eval()\n",
    "\n",
    "batch_labels, batch_strs, batch_tokens = batch_converter(data)\n"
   ]
  },
  {
   "cell_type": "markdown",
   "metadata": {},
   "source": [
    "Prefix Tuning (with prompt token = 10)"
   ]
  },
  {
   "cell_type": "code",
   "execution_count": 3,
   "metadata": {},
   "outputs": [
    {
     "name": "stdout",
     "output_type": "stream",
     "text": [
      "Representations 0: torch.Size([4, 12, 320])\n",
      "Representations 1: torch.Size([4, 12, 320])\n",
      "Representations 2: torch.Size([4, 22, 320])\n",
      "Representations 3: torch.Size([4, 22, 320])\n",
      "Representations 4: torch.Size([4, 22, 320])\n",
      "Representations 5: torch.Size([4, 22, 320])\n",
      "Representations 6: torch.Size([4, 12, 320])\n"
     ]
    }
   ],
   "source": [
    "\n",
    "if True:\n",
    "    prompt_model = PrefixTuning(model, prompt_len=10,\n",
    "                                input_seq_len=INPUT_SEQ_SIZE,\n",
    "                                prompt_layer_index=1,\n",
    "                                device=DEVICE)\n",
    "\n",
    "    model.prefix_module = prompt_model\n",
    "\n",
    "    with torch.no_grad():\n",
    "        results = model(batch_tokens, repr_layers=range(0, len(model.layers)+1))\n",
    "\n",
    "    for i in range(0, len(model.layers)+1):\n",
    "        print(f\"Representations {i}: {results['representations'][i].shape}\")"
   ]
  }
 ],
 "metadata": {
  "kernelspec": {
   "display_name": "venv_pl",
   "language": "python",
   "name": "python3"
  },
  "language_info": {
   "codemirror_mode": {
    "name": "ipython",
    "version": 3
   },
   "file_extension": ".py",
   "mimetype": "text/x-python",
   "name": "python",
   "nbconvert_exporter": "python",
   "pygments_lexer": "ipython3",
   "version": "3.8.16"
  }
 },
 "nbformat": 4,
 "nbformat_minor": 2
}
